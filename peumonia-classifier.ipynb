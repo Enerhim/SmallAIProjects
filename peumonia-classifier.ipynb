{
 "cells": [
  {
   "cell_type": "code",
   "execution_count": 1,
   "metadata": {
    "_cell_guid": "b1076dfc-b9ad-4769-8c92-a6c4dae69d19",
    "_uuid": "8f2839f25d086af736a60e9eeb907d3b93b6e0e5",
    "execution": {
     "iopub.execute_input": "2021-02-08T07:12:58.030192Z",
     "iopub.status.busy": "2021-02-08T07:12:58.029485Z",
     "iopub.status.idle": "2021-02-08T07:13:05.232745Z",
     "shell.execute_reply": "2021-02-08T07:13:05.232097Z"
    },
    "papermill": {
     "duration": 7.226226,
     "end_time": "2021-02-08T07:13:05.232963",
     "exception": false,
     "start_time": "2021-02-08T07:12:58.006737",
     "status": "completed"
    },
    "tags": []
   },
   "outputs": [],
   "source": [
    "import os\n",
    "import numpy as np\n",
    "import matplotlib.pyplot as plt\n",
    "import seaborn as sns\n",
    "import pandas as pd\n",
    "from tensorflow.keras.models import Sequential, load_model\n",
    "from tensorflow.keras.layers import Dense, Dropout, MaxPool2D, Conv2D, Flatten, BatchNormalization\n",
    "from tensorflow.keras.preprocessing.image import ImageDataGenerator\n",
    "from tensorflow.keras.preprocessing import image\n",
    "from tensorflow.keras.callbacks import EarlyStopping, ModelCheckpoint, ReduceLROnPlateau\n",
    "import cv2\n",
    "%matplotlib inline\n",
    "%config Completer.use_jedi = False\n",
    "%config IPCompleter.use_jedi = False"
   ]
  },
  {
   "cell_type": "code",
   "execution_count": 2,
   "metadata": {
    "execution": {
     "iopub.execute_input": "2021-02-08T07:13:05.254540Z",
     "iopub.status.busy": "2021-02-08T07:13:05.253885Z",
     "iopub.status.idle": "2021-02-08T07:13:05.258237Z",
     "shell.execute_reply": "2021-02-08T07:13:05.258740Z"
    },
    "papermill": {
     "duration": 0.017312,
     "end_time": "2021-02-08T07:13:05.258904",
     "exception": false,
     "start_time": "2021-02-08T07:13:05.241592",
     "status": "completed"
    },
    "tags": []
   },
   "outputs": [],
   "source": [
    "train_datagen = ImageDataGenerator(rescale=1./255, shear_range=.2, zoom_range=.2, horizontal_flip=True)\n",
    "test_datagen = ImageDataGenerator(rescale=1./255)"
   ]
  },
  {
   "cell_type": "code",
   "execution_count": 3,
   "metadata": {
    "execution": {
     "iopub.execute_input": "2021-02-08T07:13:05.279418Z",
     "iopub.status.busy": "2021-02-08T07:13:05.278751Z",
     "iopub.status.idle": "2021-02-08T07:13:08.722308Z",
     "shell.execute_reply": "2021-02-08T07:13:08.722977Z"
    },
    "papermill": {
     "duration": 3.45675,
     "end_time": "2021-02-08T07:13:08.723212",
     "exception": false,
     "start_time": "2021-02-08T07:13:05.266462",
     "status": "completed"
    },
    "tags": []
   },
   "outputs": [
    {
     "name": "stdout",
     "output_type": "stream",
     "text": [
      "Found 5216 images belonging to 2 classes.\n",
      "Found 624 images belonging to 2 classes.\n"
     ]
    }
   ],
   "source": [
    "training_set = train_datagen.flow_from_directory(\"../input/chest-xray-pneumonia/chest_xray/train\", target_size=(150,150), batch_size=32, class_mode=\"binary\")\n",
    "testing_set = test_datagen.flow_from_directory(\"../input/chest-xray-pneumonia/chest_xray/test\", target_size=(150,150), batch_size=32, class_mode=\"binary\")"
   ]
  },
  {
   "cell_type": "code",
   "execution_count": 4,
   "metadata": {
    "execution": {
     "iopub.execute_input": "2021-02-08T07:13:08.746708Z",
     "iopub.status.busy": "2021-02-08T07:13:08.745833Z",
     "iopub.status.idle": "2021-02-08T07:13:08.749134Z",
     "shell.execute_reply": "2021-02-08T07:13:08.748609Z"
    },
    "papermill": {
     "duration": 0.016533,
     "end_time": "2021-02-08T07:13:08.749264",
     "exception": false,
     "start_time": "2021-02-08T07:13:08.732731",
     "status": "completed"
    },
    "tags": []
   },
   "outputs": [],
   "source": [
    "es = EarlyStopping(monitor='val_accuracy', mode=\"max\", patience=25, verbose=1, restore_best_weights=True)\n",
    "cp = ModelCheckpoint(\"Weights-{epoch:03d}--{val_accuracy:.5f}.hdf5\", monitor='val_accuracy', verbose = 2, save_best_only = True, mode ='max')\n",
    "rl = ReduceLROnPlateau(monitor='val_accuracy', patience = 2, verbose=1, factor=0.3, min_lr=0.000001)"
   ]
  },
  {
   "cell_type": "code",
   "execution_count": 5,
   "metadata": {
    "execution": {
     "iopub.execute_input": "2021-02-08T07:13:08.779892Z",
     "iopub.status.busy": "2021-02-08T07:13:08.779122Z",
     "iopub.status.idle": "2021-02-08T07:13:12.611637Z",
     "shell.execute_reply": "2021-02-08T07:13:12.610947Z"
    },
    "papermill": {
     "duration": 3.854542,
     "end_time": "2021-02-08T07:13:12.611815",
     "exception": false,
     "start_time": "2021-02-08T07:13:08.757273",
     "status": "completed"
    },
    "tags": []
   },
   "outputs": [
    {
     "name": "stdout",
     "output_type": "stream",
     "text": [
      "Model: \"sequential\"\n",
      "_________________________________________________________________\n",
      "Layer (type)                 Output Shape              Param #   \n",
      "=================================================================\n",
      "conv2d (Conv2D)              (None, 150, 150, 32)      896       \n",
      "_________________________________________________________________\n",
      "batch_normalization (BatchNo (None, 150, 150, 32)      128       \n",
      "_________________________________________________________________\n",
      "max_pooling2d (MaxPooling2D) (None, 75, 75, 32)        0         \n",
      "_________________________________________________________________\n",
      "conv2d_1 (Conv2D)            (None, 75, 75, 64)        18496     \n",
      "_________________________________________________________________\n",
      "dropout (Dropout)            (None, 75, 75, 64)        0         \n",
      "_________________________________________________________________\n",
      "batch_normalization_1 (Batch (None, 75, 75, 64)        256       \n",
      "_________________________________________________________________\n",
      "max_pooling2d_1 (MaxPooling2 (None, 38, 38, 64)        0         \n",
      "_________________________________________________________________\n",
      "conv2d_2 (Conv2D)            (None, 38, 38, 64)        36928     \n",
      "_________________________________________________________________\n",
      "batch_normalization_2 (Batch (None, 38, 38, 64)        256       \n",
      "_________________________________________________________________\n",
      "max_pooling2d_2 (MaxPooling2 (None, 19, 19, 64)        0         \n",
      "_________________________________________________________________\n",
      "conv2d_3 (Conv2D)            (None, 19, 19, 128)       73856     \n",
      "_________________________________________________________________\n",
      "dropout_1 (Dropout)          (None, 19, 19, 128)       0         \n",
      "_________________________________________________________________\n",
      "batch_normalization_3 (Batch (None, 19, 19, 128)       512       \n",
      "_________________________________________________________________\n",
      "max_pooling2d_3 (MaxPooling2 (None, 10, 10, 128)       0         \n",
      "_________________________________________________________________\n",
      "conv2d_4 (Conv2D)            (None, 10, 10, 256)       295168    \n",
      "_________________________________________________________________\n",
      "dropout_2 (Dropout)          (None, 10, 10, 256)       0         \n",
      "_________________________________________________________________\n",
      "batch_normalization_4 (Batch (None, 10, 10, 256)       1024      \n",
      "_________________________________________________________________\n",
      "max_pooling2d_4 (MaxPooling2 (None, 5, 5, 256)         0         \n",
      "_________________________________________________________________\n",
      "flatten (Flatten)            (None, 6400)              0         \n",
      "_________________________________________________________________\n",
      "dense (Dense)                (None, 128)               819328    \n",
      "_________________________________________________________________\n",
      "dropout_3 (Dropout)          (None, 128)               0         \n",
      "_________________________________________________________________\n",
      "dense_1 (Dense)              (None, 1)                 129       \n",
      "=================================================================\n",
      "Total params: 1,246,977\n",
      "Trainable params: 1,245,889\n",
      "Non-trainable params: 1,088\n",
      "_________________________________________________________________\n"
     ]
    }
   ],
   "source": [
    "model = Sequential()\n",
    "model.add(Conv2D(32 , (3,3) , strides = 1 , padding = 'same' , activation = 'relu' , input_shape = (150,150,3)))\n",
    "model.add(BatchNormalization())\n",
    "model.add(MaxPool2D((2,2) , strides = 2 , padding = 'same'))\n",
    "model.add(Conv2D(64 , (3,3) , strides = 1 , padding = 'same' , activation = 'relu'))\n",
    "model.add(Dropout(0.1))\n",
    "model.add(BatchNormalization())\n",
    "model.add(MaxPool2D((2,2) , strides = 2 , padding = 'same'))\n",
    "model.add(Conv2D(64 , (3,3) , strides = 1 , padding = 'same' , activation = 'relu'))\n",
    "model.add(BatchNormalization())\n",
    "model.add(MaxPool2D((2,2) , strides = 2 , padding = 'same'))\n",
    "model.add(Conv2D(128 , (3,3) , strides = 1 , padding = 'same' , activation = 'relu'))\n",
    "model.add(Dropout(0.2))\n",
    "model.add(BatchNormalization())\n",
    "model.add(MaxPool2D((2,2) , strides = 2 , padding = 'same'))\n",
    "model.add(Conv2D(256 , (3,3) , strides = 1 , padding = 'same' , activation = 'relu'))\n",
    "model.add(Dropout(0.2))\n",
    "model.add(BatchNormalization())\n",
    "model.add(MaxPool2D((2,2) , strides = 2 , padding = 'same'))\n",
    "model.add(Flatten())\n",
    "model.add(Dense(units = 128 , activation = 'relu'))\n",
    "model.add(Dropout(0.2))\n",
    "model.add(Dense(units = 1 , activation = 'sigmoid'))\n",
    "model.compile(optimizer = \"rmsprop\" , loss = 'binary_crossentropy' , metrics = ['accuracy'])\n",
    "\n",
    "model.summary()"
   ]
  },
  {
   "cell_type": "code",
   "execution_count": 6,
   "metadata": {
    "execution": {
     "iopub.execute_input": "2021-02-08T07:13:12.650442Z",
     "iopub.status.busy": "2021-02-08T07:13:12.649639Z",
     "iopub.status.idle": "2021-02-08T07:13:12.659872Z",
     "shell.execute_reply": "2021-02-08T07:13:12.660871Z"
    },
    "papermill": {
     "duration": 0.036803,
     "end_time": "2021-02-08T07:13:12.661072",
     "exception": false,
     "start_time": "2021-02-08T07:13:12.624269",
     "status": "completed"
    },
    "tags": []
   },
   "outputs": [
    {
     "data": {
      "text/plain": [
       "'/device:GPU:0'"
      ]
     },
     "execution_count": 6,
     "metadata": {},
     "output_type": "execute_result"
    }
   ],
   "source": [
    "import tensorflow as tf\n",
    "tf.test.gpu_device_name()"
   ]
  },
  {
   "cell_type": "code",
   "execution_count": 7,
   "metadata": {
    "execution": {
     "iopub.execute_input": "2021-02-08T07:13:12.698971Z",
     "iopub.status.busy": "2021-02-08T07:13:12.698161Z",
     "iopub.status.idle": "2021-02-08T07:13:12.771897Z",
     "shell.execute_reply": "2021-02-08T07:13:12.770806Z"
    },
    "papermill": {
     "duration": 0.098346,
     "end_time": "2021-02-08T07:13:12.772086",
     "exception": false,
     "start_time": "2021-02-08T07:13:12.673740",
     "status": "completed"
    },
    "tags": []
   },
   "outputs": [],
   "source": [
    "from tensorflow.compat.v1 import ConfigProto\n",
    "from tensorflow.compat.v1 import InteractiveSession\n",
    "\n",
    "config = ConfigProto()\n",
    "config.gpu_options.allow_growth = True\n",
    "session = InteractiveSession(config=config)"
   ]
  },
  {
   "cell_type": "code",
   "execution_count": 8,
   "metadata": {
    "execution": {
     "iopub.execute_input": "2021-02-08T07:13:12.804383Z",
     "iopub.status.busy": "2021-02-08T07:13:12.803485Z",
     "iopub.status.idle": "2021-02-08T07:58:24.263803Z",
     "shell.execute_reply": "2021-02-08T07:58:24.264287Z"
    },
    "papermill": {
     "duration": 2711.479199,
     "end_time": "2021-02-08T07:58:24.264472",
     "exception": false,
     "start_time": "2021-02-08T07:13:12.785273",
     "status": "completed"
    },
    "tags": []
   },
   "outputs": [
    {
     "name": "stdout",
     "output_type": "stream",
     "text": [
      "Epoch 1/200\n",
      "163/163 [==============================] - 133s 789ms/step - loss: 1.1204 - accuracy: 0.8056 - val_loss: 4.5336 - val_accuracy: 0.6250\n",
      "\n",
      "Epoch 00001: val_accuracy improved from -inf to 0.62500, saving model to Weights-001--0.62500.hdf5\n",
      "Epoch 2/200\n",
      "163/163 [==============================] - 80s 491ms/step - loss: 0.2906 - accuracy: 0.9042 - val_loss: 2.2301 - val_accuracy: 0.7035\n",
      "\n",
      "Epoch 00002: val_accuracy improved from 0.62500 to 0.70353, saving model to Weights-002--0.70353.hdf5\n",
      "Epoch 3/200\n",
      "163/163 [==============================] - 83s 511ms/step - loss: 0.2070 - accuracy: 0.9255 - val_loss: 6.8267 - val_accuracy: 0.6250\n",
      "\n",
      "Epoch 00003: val_accuracy did not improve from 0.70353\n",
      "Epoch 4/200\n",
      "163/163 [==============================] - 80s 488ms/step - loss: 0.1758 - accuracy: 0.9356 - val_loss: 0.3840 - val_accuracy: 0.8686\n",
      "\n",
      "Epoch 00004: val_accuracy improved from 0.70353 to 0.86859, saving model to Weights-004--0.86859.hdf5\n",
      "Epoch 5/200\n",
      "163/163 [==============================] - 80s 491ms/step - loss: 0.1819 - accuracy: 0.9374 - val_loss: 1.2936 - val_accuracy: 0.7500\n",
      "\n",
      "Epoch 00005: val_accuracy did not improve from 0.86859\n",
      "Epoch 6/200\n",
      "163/163 [==============================] - 79s 485ms/step - loss: 0.1335 - accuracy: 0.9562 - val_loss: 0.5600 - val_accuracy: 0.8013\n",
      "\n",
      "Epoch 00006: val_accuracy did not improve from 0.86859\n",
      "\n",
      "Epoch 00006: ReduceLROnPlateau reducing learning rate to 0.0003000000142492354.\n",
      "Epoch 7/200\n",
      "163/163 [==============================] - 79s 488ms/step - loss: 0.1116 - accuracy: 0.9639 - val_loss: 0.6224 - val_accuracy: 0.8718\n",
      "\n",
      "Epoch 00007: val_accuracy improved from 0.86859 to 0.87179, saving model to Weights-007--0.87179.hdf5\n",
      "Epoch 8/200\n",
      "163/163 [==============================] - 80s 489ms/step - loss: 0.0878 - accuracy: 0.9670 - val_loss: 0.3391 - val_accuracy: 0.9311\n",
      "\n",
      "Epoch 00008: val_accuracy improved from 0.87179 to 0.93109, saving model to Weights-008--0.93109.hdf5\n",
      "Epoch 9/200\n",
      "163/163 [==============================] - 80s 488ms/step - loss: 0.0899 - accuracy: 0.9714 - val_loss: 0.4420 - val_accuracy: 0.8542\n",
      "\n",
      "Epoch 00009: val_accuracy did not improve from 0.93109\n",
      "Epoch 10/200\n",
      "163/163 [==============================] - 79s 488ms/step - loss: 0.1143 - accuracy: 0.9662 - val_loss: 0.3062 - val_accuracy: 0.8814\n",
      "\n",
      "Epoch 00010: val_accuracy did not improve from 0.93109\n",
      "\n",
      "Epoch 00010: ReduceLROnPlateau reducing learning rate to 9.000000427477062e-05.\n",
      "Epoch 11/200\n",
      "163/163 [==============================] - 80s 490ms/step - loss: 0.0697 - accuracy: 0.9781 - val_loss: 0.2836 - val_accuracy: 0.8990\n",
      "\n",
      "Epoch 00011: val_accuracy did not improve from 0.93109\n",
      "Epoch 12/200\n",
      "163/163 [==============================] - 79s 484ms/step - loss: 0.0695 - accuracy: 0.9730 - val_loss: 1.0213 - val_accuracy: 0.8590\n",
      "\n",
      "Epoch 00012: val_accuracy did not improve from 0.93109\n",
      "\n",
      "Epoch 00012: ReduceLROnPlateau reducing learning rate to 2.700000040931627e-05.\n",
      "Epoch 13/200\n",
      "163/163 [==============================] - 80s 490ms/step - loss: 0.0597 - accuracy: 0.9777 - val_loss: 0.3071 - val_accuracy: 0.9311\n",
      "\n",
      "Epoch 00013: val_accuracy did not improve from 0.93109\n",
      "Epoch 14/200\n",
      "163/163 [==============================] - 78s 482ms/step - loss: 0.0634 - accuracy: 0.9780 - val_loss: 0.2775 - val_accuracy: 0.9247\n",
      "\n",
      "Epoch 00014: val_accuracy did not improve from 0.93109\n",
      "\n",
      "Epoch 00014: ReduceLROnPlateau reducing learning rate to 8.100000013655517e-06.\n",
      "Epoch 15/200\n",
      "163/163 [==============================] - 80s 489ms/step - loss: 0.0678 - accuracy: 0.9794 - val_loss: 0.5269 - val_accuracy: 0.8974\n",
      "\n",
      "Epoch 00015: val_accuracy did not improve from 0.93109\n",
      "Epoch 16/200\n",
      "163/163 [==============================] - 79s 487ms/step - loss: 0.0484 - accuracy: 0.9809 - val_loss: 0.4371 - val_accuracy: 0.9135\n",
      "\n",
      "Epoch 00016: val_accuracy did not improve from 0.93109\n",
      "\n",
      "Epoch 00016: ReduceLROnPlateau reducing learning rate to 2.429999949526973e-06.\n",
      "Epoch 17/200\n",
      "163/163 [==============================] - 80s 492ms/step - loss: 0.0563 - accuracy: 0.9803 - val_loss: 0.3693 - val_accuracy: 0.9231\n",
      "\n",
      "Epoch 00017: val_accuracy did not improve from 0.93109\n",
      "Epoch 18/200\n",
      "163/163 [==============================] - 80s 489ms/step - loss: 0.0496 - accuracy: 0.9822 - val_loss: 0.3496 - val_accuracy: 0.9295\n",
      "\n",
      "Epoch 00018: val_accuracy did not improve from 0.93109\n",
      "\n",
      "Epoch 00018: ReduceLROnPlateau reducing learning rate to 1e-06.\n",
      "Epoch 19/200\n",
      "163/163 [==============================] - 80s 491ms/step - loss: 0.0538 - accuracy: 0.9804 - val_loss: 0.3577 - val_accuracy: 0.9247\n",
      "\n",
      "Epoch 00019: val_accuracy did not improve from 0.93109\n",
      "Epoch 20/200\n",
      "163/163 [==============================] - 80s 493ms/step - loss: 0.0571 - accuracy: 0.9798 - val_loss: 0.3538 - val_accuracy: 0.9263\n",
      "\n",
      "Epoch 00020: val_accuracy did not improve from 0.93109\n",
      "Epoch 21/200\n",
      "163/163 [==============================] - 81s 496ms/step - loss: 0.0589 - accuracy: 0.9809 - val_loss: 0.3526 - val_accuracy: 0.9279\n",
      "\n",
      "Epoch 00021: val_accuracy did not improve from 0.93109\n",
      "Epoch 22/200\n",
      "163/163 [==============================] - 81s 496ms/step - loss: 0.0734 - accuracy: 0.9790 - val_loss: 0.3454 - val_accuracy: 0.9295\n",
      "\n",
      "Epoch 00022: val_accuracy did not improve from 0.93109\n",
      "Epoch 23/200\n",
      "163/163 [==============================] - 81s 492ms/step - loss: 0.0587 - accuracy: 0.9810 - val_loss: 0.3397 - val_accuracy: 0.9279\n",
      "\n",
      "Epoch 00023: val_accuracy did not improve from 0.93109\n",
      "Epoch 24/200\n",
      "163/163 [==============================] - 81s 495ms/step - loss: 0.0689 - accuracy: 0.9795 - val_loss: 0.3422 - val_accuracy: 0.9295\n",
      "\n",
      "Epoch 00024: val_accuracy did not improve from 0.93109\n",
      "Epoch 25/200\n",
      "163/163 [==============================] - 82s 500ms/step - loss: 0.0577 - accuracy: 0.9791 - val_loss: 0.3350 - val_accuracy: 0.9295\n",
      "\n",
      "Epoch 00025: val_accuracy did not improve from 0.93109\n",
      "Epoch 26/200\n",
      "163/163 [==============================] - 81s 497ms/step - loss: 0.0583 - accuracy: 0.9791 - val_loss: 0.3384 - val_accuracy: 0.9295\n",
      "\n",
      "Epoch 00026: val_accuracy did not improve from 0.93109\n",
      "Epoch 27/200\n",
      "163/163 [==============================] - 81s 498ms/step - loss: 0.0697 - accuracy: 0.9758 - val_loss: 0.3549 - val_accuracy: 0.9247\n",
      "\n",
      "Epoch 00027: val_accuracy did not improve from 0.93109\n",
      "Epoch 28/200\n",
      "163/163 [==============================] - 82s 501ms/step - loss: 0.0586 - accuracy: 0.9826 - val_loss: 0.3612 - val_accuracy: 0.9247\n",
      "\n",
      "Epoch 00028: val_accuracy did not improve from 0.93109\n",
      "Epoch 29/200\n",
      "163/163 [==============================] - 82s 504ms/step - loss: 0.0542 - accuracy: 0.9808 - val_loss: 0.3394 - val_accuracy: 0.9295\n",
      "\n",
      "Epoch 00029: val_accuracy did not improve from 0.93109\n",
      "Epoch 30/200\n",
      "163/163 [==============================] - 81s 497ms/step - loss: 0.0449 - accuracy: 0.9857 - val_loss: 0.3442 - val_accuracy: 0.9295\n",
      "\n",
      "Epoch 00030: val_accuracy did not improve from 0.93109\n",
      "Epoch 31/200\n",
      "163/163 [==============================] - 83s 507ms/step - loss: 0.0611 - accuracy: 0.9758 - val_loss: 0.3459 - val_accuracy: 0.9279\n",
      "\n",
      "Epoch 00031: val_accuracy did not improve from 0.93109\n",
      "Epoch 32/200\n",
      "163/163 [==============================] - 82s 503ms/step - loss: 0.0661 - accuracy: 0.9780 - val_loss: 0.3412 - val_accuracy: 0.9279\n",
      "\n",
      "Epoch 00032: val_accuracy did not improve from 0.93109\n",
      "Epoch 33/200\n",
      "163/163 [==============================] - 83s 507ms/step - loss: 0.0673 - accuracy: 0.9807 - val_loss: 0.3415 - val_accuracy: 0.9295\n",
      "\n",
      "Epoch 00033: val_accuracy did not improve from 0.93109\n",
      "Restoring model weights from the end of the best epoch.\n",
      "Epoch 00033: early stopping\n",
      "Model: \"sequential\"\n",
      "_________________________________________________________________\n",
      "Layer (type)                 Output Shape              Param #   \n",
      "=================================================================\n",
      "conv2d (Conv2D)              (None, 150, 150, 32)      896       \n",
      "_________________________________________________________________\n",
      "batch_normalization (BatchNo (None, 150, 150, 32)      128       \n",
      "_________________________________________________________________\n",
      "max_pooling2d (MaxPooling2D) (None, 75, 75, 32)        0         \n",
      "_________________________________________________________________\n",
      "conv2d_1 (Conv2D)            (None, 75, 75, 64)        18496     \n",
      "_________________________________________________________________\n",
      "dropout (Dropout)            (None, 75, 75, 64)        0         \n",
      "_________________________________________________________________\n",
      "batch_normalization_1 (Batch (None, 75, 75, 64)        256       \n",
      "_________________________________________________________________\n",
      "max_pooling2d_1 (MaxPooling2 (None, 38, 38, 64)        0         \n",
      "_________________________________________________________________\n",
      "conv2d_2 (Conv2D)            (None, 38, 38, 64)        36928     \n",
      "_________________________________________________________________\n",
      "batch_normalization_2 (Batch (None, 38, 38, 64)        256       \n",
      "_________________________________________________________________\n",
      "max_pooling2d_2 (MaxPooling2 (None, 19, 19, 64)        0         \n",
      "_________________________________________________________________\n",
      "conv2d_3 (Conv2D)            (None, 19, 19, 128)       73856     \n",
      "_________________________________________________________________\n",
      "dropout_1 (Dropout)          (None, 19, 19, 128)       0         \n",
      "_________________________________________________________________\n",
      "batch_normalization_3 (Batch (None, 19, 19, 128)       512       \n",
      "_________________________________________________________________\n",
      "max_pooling2d_3 (MaxPooling2 (None, 10, 10, 128)       0         \n",
      "_________________________________________________________________\n",
      "conv2d_4 (Conv2D)            (None, 10, 10, 256)       295168    \n",
      "_________________________________________________________________\n",
      "dropout_2 (Dropout)          (None, 10, 10, 256)       0         \n",
      "_________________________________________________________________\n",
      "batch_normalization_4 (Batch (None, 10, 10, 256)       1024      \n",
      "_________________________________________________________________\n",
      "max_pooling2d_4 (MaxPooling2 (None, 5, 5, 256)         0         \n",
      "_________________________________________________________________\n",
      "flatten (Flatten)            (None, 6400)              0         \n",
      "_________________________________________________________________\n",
      "dense (Dense)                (None, 128)               819328    \n",
      "_________________________________________________________________\n",
      "dropout_3 (Dropout)          (None, 128)               0         \n",
      "_________________________________________________________________\n",
      "dense_1 (Dense)              (None, 1)                 129       \n",
      "=================================================================\n",
      "Total params: 1,246,977\n",
      "Trainable params: 1,245,889\n",
      "Non-trainable params: 1,088\n",
      "_________________________________________________________________\n"
     ]
    }
   ],
   "source": [
    "log = model.fit(x = training_set, validation_data = testing_set, batch_size=16, epochs=200, callbacks=[cp, es, rl])\n",
    "model.save(\"model.hdf5\")\n",
    "model.summary()"
   ]
  },
  {
   "cell_type": "markdown",
   "metadata": {
    "tags": [
     "papermill-error-cell-tag"
    ]
   },
   "source": [
    "<span id=\"papermill-error-cell\" style=\"color:red; font-family:Helvetica Neue, Helvetica, Arial, sans-serif; font-size:2em;\">Execution using papermill encountered an exception here and stopped:</span>"
   ]
  },
  {
   "cell_type": "code",
   "execution_count": 9,
   "metadata": {
    "execution": {
     "iopub.execute_input": "2021-02-08T07:58:27.859358Z",
     "iopub.status.busy": "2021-02-08T07:58:27.858368Z",
     "iopub.status.idle": "2021-02-08T07:58:31.549573Z",
     "shell.execute_reply": "2021-02-08T07:58:31.548917Z"
    },
    "papermill": {
     "duration": 5.496619,
     "end_time": "2021-02-08T07:58:31.549720",
     "exception": false,
     "start_time": "2021-02-08T07:58:26.053101",
     "status": "completed"
    },
    "tags": []
   },
   "outputs": [
    {
     "name": "stderr",
     "output_type": "stream",
     "text": [
      "/opt/conda/lib/python3.7/site-packages/tensorflow/python/keras/engine/sequential.py:450: UserWarning: `model.predict_classes()` is deprecated and will be removed after 2021-01-01. Please use instead:* `np.argmax(model.predict(x), axis=-1)`,   if your model does multi-class classification   (e.g. if it uses a `softmax` last-layer activation).* `(model.predict(x) > 0.5).astype(\"int32\")`,   if your model does binary classification   (e.g. if it uses a `sigmoid` last-layer activation).\n",
      "  warnings.warn('`model.predict_classes()` is deprecated and '\n"
     ]
    },
    {
     "ename": "ValueError",
     "evalue": "invalid literal for int() with base 10: 'Normal'",
     "output_type": "error",
     "traceback": [
      "\u001b[0;31m---------------------------------------------------------------------------\u001b[0m",
      "\u001b[0;31mValueError\u001b[0m                                Traceback (most recent call last)",
      "\u001b[0;32m<ipython-input-9-ae77ebd928a7>\u001b[0m in \u001b[0;36m<module>\u001b[0;34m\u001b[0m\n\u001b[1;32m     14\u001b[0m \u001b[0;32mfor\u001b[0m \u001b[0mi\u001b[0m \u001b[0;32min\u001b[0m \u001b[0mclasses\u001b[0m\u001b[0;34m:\u001b[0m\u001b[0;34m\u001b[0m\u001b[0;34m\u001b[0m\u001b[0m\n\u001b[1;32m     15\u001b[0m     \u001b[0;32mif\u001b[0m \u001b[0mi\u001b[0m\u001b[0;34m[\u001b[0m\u001b[0;36m0\u001b[0m\u001b[0;34m]\u001b[0m \u001b[0;34m==\u001b[0m \u001b[0;36m0\u001b[0m\u001b[0;34m:\u001b[0m\u001b[0;34m\u001b[0m\u001b[0;34m\u001b[0m\u001b[0m\n\u001b[0;32m---> 16\u001b[0;31m         \u001b[0mi\u001b[0m\u001b[0;34m[\u001b[0m\u001b[0;36m0\u001b[0m\u001b[0;34m]\u001b[0m \u001b[0;34m=\u001b[0m \u001b[0;34m\"Normal\"\u001b[0m\u001b[0;34m\u001b[0m\u001b[0;34m\u001b[0m\u001b[0m\n\u001b[0m\u001b[1;32m     17\u001b[0m     \u001b[0;32melse\u001b[0m\u001b[0;34m:\u001b[0m\u001b[0;34m\u001b[0m\u001b[0;34m\u001b[0m\u001b[0m\n\u001b[1;32m     18\u001b[0m         \u001b[0mi\u001b[0m\u001b[0;34m[\u001b[0m\u001b[0;36m0\u001b[0m\u001b[0;34m]\u001b[0m \u001b[0;34m=\u001b[0m \u001b[0;34m\"Pneumonia\"\u001b[0m\u001b[0;34m\u001b[0m\u001b[0;34m\u001b[0m\u001b[0m\n",
      "\u001b[0;31mValueError\u001b[0m: invalid literal for int() with base 10: 'Normal'"
     ]
    }
   ],
   "source": [
    "images = []\n",
    "name = []\n",
    "folder_path = '../input/chest-xray-pneumonia/chest_xray/test/NORMAL'\n",
    "for img in os.listdir(folder_path):\n",
    "    name.append(os.path.join(folder_path, img))\n",
    "    img = os.path.join(folder_path, img)\n",
    "    img = image.load_img(img, target_size=(150, 150))\n",
    "    img = image.img_to_array(img)\n",
    "    img = np.expand_dims(img, axis=0)\n",
    "    images.append(img)\n",
    "    \n",
    "images = np.vstack(images)\n",
    "classes = model.predict_classes(images, batch_size=10)\n",
    "for i in classes:\n",
    "    if i[0] == 0:\n",
    "        i[0] = \"Normal\"\n",
    "    else:\n",
    "        i[0] = \"Pneumonia\"\n",
    "classes"
   ]
  },
  {
   "cell_type": "code",
   "execution_count": 10,
   "metadata": {
    "execution": {
     "iopub.execute_input": "2021-02-08T07:58:35.186965Z",
     "iopub.status.busy": "2021-02-08T07:58:35.186263Z",
     "iopub.status.idle": "2021-02-08T07:58:35.358436Z",
     "shell.execute_reply": "2021-02-08T07:58:35.358908Z"
    },
    "papermill": {
     "duration": 1.976073,
     "end_time": "2021-02-08T07:58:35.359106",
     "exception": false,
     "start_time": "2021-02-08T07:58:33.383033",
     "status": "completed"
    },
    "tags": []
   },
   "outputs": [
    {
     "data": {
      "text/plain": [
       "array([[1],\n",
       "       [1],\n",
       "       [0],\n",
       "       [1],\n",
       "       [1],\n",
       "       [1],\n",
       "       [1],\n",
       "       [1]], dtype=int32)"
      ]
     },
     "execution_count": 10,
     "metadata": {},
     "output_type": "execute_result"
    }
   ],
   "source": [
    "images = []\n",
    "name = []\n",
    "folder_path = '../input/chest-xray-pneumonia/chest_xray/val/PNEUMONIA'\n",
    "for img in os.listdir(folder_path):\n",
    "    name.append(os.path.join(folder_path, img))\n",
    "    img = os.path.join(folder_path, img)\n",
    "    img = image.load_img(img, target_size=(150, 150))\n",
    "    img = image.img_to_array(img)\n",
    "    img = np.expand_dims(img, axis=0)\n",
    "    images.append(img)\n",
    "    \n",
    "images = np.vstack(images)\n",
    "classes = model.predict_classes(images, batch_size=10)\n",
    "classes"
   ]
  }
 ],
 "metadata": {
  "kernelspec": {
   "display_name": "Python 3",
   "language": "python",
   "name": "python3"
  },
  "language_info": {
   "codemirror_mode": {
    "name": "ipython",
    "version": 3
   },
   "file_extension": ".py",
   "mimetype": "text/x-python",
   "name": "python",
   "nbconvert_exporter": "python",
   "pygments_lexer": "ipython3",
   "version": "3.7.9"
  },
  "papermill": {
   "default_parameters": {},
   "duration": 2748.393332,
   "end_time": "2021-02-08T07:58:40.500778",
   "environment_variables": {},
   "exception": null,
   "input_path": "__notebook__.ipynb",
   "output_path": "__notebook__.ipynb",
   "parameters": {},
   "start_time": "2021-02-08T07:12:52.107446",
   "version": "2.2.2"
  }
 },
 "nbformat": 4,
 "nbformat_minor": 4
}
