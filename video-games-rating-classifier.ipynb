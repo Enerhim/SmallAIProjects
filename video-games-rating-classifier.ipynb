{
 "cells": [
  {
   "cell_type": "code",
   "execution_count": 1,
   "metadata": {
    "_cell_guid": "b1076dfc-b9ad-4769-8c92-a6c4dae69d19",
    "_uuid": "8f2839f25d086af736a60e9eeb907d3b93b6e0e5",
    "execution": {
     "iopub.execute_input": "2021-02-09T06:03:18.417476Z",
     "iopub.status.busy": "2021-02-09T06:03:18.416716Z",
     "iopub.status.idle": "2021-02-09T06:03:25.334692Z",
     "shell.execute_reply": "2021-02-09T06:03:25.333809Z"
    },
    "papermill": {
     "duration": 6.938926,
     "end_time": "2021-02-09T06:03:25.334906",
     "exception": false,
     "start_time": "2021-02-09T06:03:18.395980",
     "status": "completed"
    },
    "tags": []
   },
   "outputs": [],
   "source": [
    "import numpy as np\n",
    "import pandas as pd\n",
    "from missingno import matrix\n",
    "import matplotlib.pyplot as plt\n",
    "import seaborn as sns\n",
    "from sklearn.preprocessing import StandardScaler, LabelBinarizer\n",
    "from sklearn.model_selection import train_test_split\n",
    "from tensorflow.keras.models import load_model, Sequential\n",
    "from tensorflow.keras.layers import Dense, Dropout, Input\n",
    "from tensorflow.keras.callbacks import EarlyStopping, ReduceLROnPlateau, ModelCheckpoint\n",
    "%matplotlib inline\n",
    "%config Completer.use_jedi=  False\n",
    "%config IPCompleter.use_jedi= False"
   ]
  },
  {
   "cell_type": "code",
   "execution_count": 2,
   "metadata": {
    "execution": {
     "iopub.execute_input": "2021-02-09T06:03:25.354104Z",
     "iopub.status.busy": "2021-02-09T06:03:25.353462Z",
     "iopub.status.idle": "2021-02-09T06:03:25.401646Z",
     "shell.execute_reply": "2021-02-09T06:03:25.401042Z"
    },
    "papermill": {
     "duration": 0.059778,
     "end_time": "2021-02-09T06:03:25.401806",
     "exception": false,
     "start_time": "2021-02-09T06:03:25.342028",
     "status": "completed"
    },
    "tags": []
   },
   "outputs": [],
   "source": [
    "tr_data = pd.read_csv(\"../input/video-games-rating-by-esrb/Video_games_esrb_rating.csv\")\n",
    "ts_data = pd.read_csv(\"../input/video-games-rating-by-esrb/test_esrb.csv\")"
   ]
  },
  {
   "cell_type": "code",
   "execution_count": 3,
   "metadata": {
    "execution": {
     "iopub.execute_input": "2021-02-09T06:03:25.438998Z",
     "iopub.status.busy": "2021-02-09T06:03:25.420401Z",
     "iopub.status.idle": "2021-02-09T06:03:25.443210Z",
     "shell.execute_reply": "2021-02-09T06:03:25.442578Z"
    },
    "papermill": {
     "duration": 0.034555,
     "end_time": "2021-02-09T06:03:25.443373",
     "exception": false,
     "start_time": "2021-02-09T06:03:25.408818",
     "status": "completed"
    },
    "tags": []
   },
   "outputs": [
    {
     "data": {
      "text/plain": [
       "0        E\n",
       "1       ET\n",
       "2        M\n",
       "3       ET\n",
       "4        T\n",
       "        ..\n",
       "1890     M\n",
       "1891     T\n",
       "1892     E\n",
       "1893     T\n",
       "1894     E\n",
       "Name: esrb_rating, Length: 1895, dtype: object"
      ]
     },
     "execution_count": 3,
     "metadata": {},
     "output_type": "execute_result"
    }
   ],
   "source": [
    "X = tr_data.copy()\n",
    "X.drop([\"title\", \"esrb_rating\"], axis=1, inplace=True)\n",
    "\n",
    "y = tr_data[\"esrb_rating\"]\n",
    "y"
   ]
  },
  {
   "cell_type": "code",
   "execution_count": 4,
   "metadata": {
    "execution": {
     "iopub.execute_input": "2021-02-09T06:03:25.468168Z",
     "iopub.status.busy": "2021-02-09T06:03:25.467291Z",
     "iopub.status.idle": "2021-02-09T06:03:25.471157Z",
     "shell.execute_reply": "2021-02-09T06:03:25.471643Z"
    },
    "papermill": {
     "duration": 0.020912,
     "end_time": "2021-02-09T06:03:25.471823",
     "exception": false,
     "start_time": "2021-02-09T06:03:25.450911",
     "status": "completed"
    },
    "tags": []
   },
   "outputs": [
    {
     "data": {
      "text/plain": [
       "0       T\n",
       "1       E\n",
       "2       T\n",
       "3       E\n",
       "4      ET\n",
       "       ..\n",
       "495     M\n",
       "496     M\n",
       "497     M\n",
       "498     T\n",
       "499     T\n",
       "Name: esrb_rating, Length: 500, dtype: object"
      ]
     },
     "execution_count": 4,
     "metadata": {},
     "output_type": "execute_result"
    }
   ],
   "source": [
    "X_test = ts_data.copy()\n",
    "X_test.drop(['title', 'esrb_rating'], axis=1, inplace=True)\n",
    "\n",
    "y_test = ts_data['esrb_rating'].copy()\n",
    "y_test"
   ]
  },
  {
   "cell_type": "code",
   "execution_count": 5,
   "metadata": {
    "execution": {
     "iopub.execute_input": "2021-02-09T06:03:25.496414Z",
     "iopub.status.busy": "2021-02-09T06:03:25.495235Z",
     "iopub.status.idle": "2021-02-09T06:03:25.500439Z",
     "shell.execute_reply": "2021-02-09T06:03:25.499638Z"
    },
    "papermill": {
     "duration": 0.02083,
     "end_time": "2021-02-09T06:03:25.500595",
     "exception": false,
     "start_time": "2021-02-09T06:03:25.479765",
     "status": "completed"
    },
    "tags": []
   },
   "outputs": [
    {
     "name": "stdout",
     "output_type": "stream",
     "text": [
      "['E' 'ET' 'M' 'T']\n"
     ]
    }
   ],
   "source": [
    "y_total = y.append(y_test, ignore_index=True)\n",
    "print(y_total.unique())"
   ]
  },
  {
   "cell_type": "code",
   "execution_count": 6,
   "metadata": {
    "execution": {
     "iopub.execute_input": "2021-02-09T06:03:25.534807Z",
     "iopub.status.busy": "2021-02-09T06:03:25.534117Z",
     "iopub.status.idle": "2021-02-09T06:03:25.538521Z",
     "shell.execute_reply": "2021-02-09T06:03:25.539048Z"
    },
    "papermill": {
     "duration": 0.030061,
     "end_time": "2021-02-09T06:03:25.539230",
     "exception": false,
     "start_time": "2021-02-09T06:03:25.509169",
     "status": "completed"
    },
    "tags": []
   },
   "outputs": [
    {
     "data": {
      "text/plain": [
       "array([[1, 0, 0, 0],\n",
       "       [0, 1, 0, 0],\n",
       "       [0, 0, 1, 0],\n",
       "       ...,\n",
       "       [0, 0, 1, 0],\n",
       "       [0, 0, 0, 1],\n",
       "       [0, 0, 0, 1]])"
      ]
     },
     "execution_count": 6,
     "metadata": {},
     "output_type": "execute_result"
    }
   ],
   "source": [
    "y_encoder = LabelBinarizer()\n",
    "y_transform = y_encoder.fit_transform(y_total)\n",
    "y_transform"
   ]
  },
  {
   "cell_type": "code",
   "execution_count": 7,
   "metadata": {
    "execution": {
     "iopub.execute_input": "2021-02-09T06:03:25.560273Z",
     "iopub.status.busy": "2021-02-09T06:03:25.559535Z",
     "iopub.status.idle": "2021-02-09T06:03:25.564543Z",
     "shell.execute_reply": "2021-02-09T06:03:25.563957Z"
    },
    "papermill": {
     "duration": 0.016702,
     "end_time": "2021-02-09T06:03:25.564696",
     "exception": false,
     "start_time": "2021-02-09T06:03:25.547994",
     "status": "completed"
    },
    "tags": []
   },
   "outputs": [],
   "source": [
    "y = y_transform[:1895]\n",
    "y_test = y_transform[1895:]"
   ]
  },
  {
   "cell_type": "code",
   "execution_count": 8,
   "metadata": {
    "execution": {
     "iopub.execute_input": "2021-02-09T06:03:25.588941Z",
     "iopub.status.busy": "2021-02-09T06:03:25.587795Z",
     "iopub.status.idle": "2021-02-09T06:03:25.593136Z",
     "shell.execute_reply": "2021-02-09T06:03:25.592594Z"
    },
    "papermill": {
     "duration": 0.019538,
     "end_time": "2021-02-09T06:03:25.593290",
     "exception": false,
     "start_time": "2021-02-09T06:03:25.573752",
     "status": "completed"
    },
    "tags": []
   },
   "outputs": [],
   "source": [
    "X_train, X_valid, y_train, y_valid = train_test_split(X, y, test_size=.25)"
   ]
  },
  {
   "cell_type": "code",
   "execution_count": 9,
   "metadata": {
    "execution": {
     "iopub.execute_input": "2021-02-09T06:03:25.621900Z",
     "iopub.status.busy": "2021-02-09T06:03:25.621215Z",
     "iopub.status.idle": "2021-02-09T06:03:33.101732Z",
     "shell.execute_reply": "2021-02-09T06:03:33.101145Z"
    },
    "papermill": {
     "duration": 7.499222,
     "end_time": "2021-02-09T06:03:33.101890",
     "exception": false,
     "start_time": "2021-02-09T06:03:25.602668",
     "status": "completed"
    },
    "tags": []
   },
   "outputs": [
    {
     "name": "stdout",
     "output_type": "stream",
     "text": [
      "Epoch 1/500\n",
      "89/89 [==============================] - 1s 8ms/step - loss: 1.3248 - accuracy: 0.3940 - val_loss: 0.9210 - val_accuracy: 0.7300\n",
      "\n",
      "Epoch 00001: val_accuracy improved from -inf to 0.72996, saving model to ./models/Weights-001--0.72996.hdf5\n",
      "Epoch 2/500\n",
      "89/89 [==============================] - 0s 2ms/step - loss: 0.7536 - accuracy: 0.7580 - val_loss: 0.4950 - val_accuracy: 0.8080\n",
      "\n",
      "Epoch 00002: val_accuracy improved from 0.72996 to 0.80802, saving model to ./models/Weights-002--0.80802.hdf5\n",
      "Epoch 3/500\n",
      "89/89 [==============================] - 0s 2ms/step - loss: 0.4301 - accuracy: 0.8255 - val_loss: 0.3978 - val_accuracy: 0.8376\n",
      "\n",
      "Epoch 00003: val_accuracy improved from 0.80802 to 0.83755, saving model to ./models/Weights-003--0.83755.hdf5\n",
      "Epoch 4/500\n",
      "89/89 [==============================] - 0s 2ms/step - loss: 0.3775 - accuracy: 0.8538 - val_loss: 0.3719 - val_accuracy: 0.8671\n",
      "\n",
      "Epoch 00004: val_accuracy improved from 0.83755 to 0.86709, saving model to ./models/Weights-004--0.86709.hdf5\n",
      "Epoch 5/500\n",
      "89/89 [==============================] - 0s 2ms/step - loss: 0.3618 - accuracy: 0.8464 - val_loss: 0.3756 - val_accuracy: 0.8671\n",
      "\n",
      "Epoch 00005: val_accuracy did not improve from 0.86709\n",
      "Epoch 6/500\n",
      "89/89 [==============================] - 0s 2ms/step - loss: 0.3335 - accuracy: 0.8714 - val_loss: 0.3539 - val_accuracy: 0.8713\n",
      "\n",
      "Epoch 00006: val_accuracy improved from 0.86709 to 0.87131, saving model to ./models/Weights-006--0.87131.hdf5\n",
      "Epoch 7/500\n",
      "89/89 [==============================] - 0s 2ms/step - loss: 0.3193 - accuracy: 0.8676 - val_loss: 0.3503 - val_accuracy: 0.8650\n",
      "\n",
      "Epoch 00007: val_accuracy did not improve from 0.87131\n",
      "Epoch 8/500\n",
      "89/89 [==============================] - 0s 2ms/step - loss: 0.2846 - accuracy: 0.8728 - val_loss: 0.3662 - val_accuracy: 0.8650\n",
      "\n",
      "Epoch 00008: val_accuracy did not improve from 0.87131\n",
      "Epoch 9/500\n",
      "89/89 [==============================] - 0s 2ms/step - loss: 0.2710 - accuracy: 0.8995 - val_loss: 0.3398 - val_accuracy: 0.8692\n",
      "\n",
      "Epoch 00009: ReduceLROnPlateau reducing learning rate to 0.001.\n",
      "\n",
      "Epoch 00009: val_accuracy did not improve from 0.87131\n",
      "Epoch 10/500\n",
      "89/89 [==============================] - 0s 2ms/step - loss: 0.2611 - accuracy: 0.9093 - val_loss: 0.3571 - val_accuracy: 0.8629\n",
      "\n",
      "Epoch 00010: val_accuracy did not improve from 0.87131\n",
      "Epoch 11/500\n",
      "89/89 [==============================] - 0s 2ms/step - loss: 0.2431 - accuracy: 0.9103 - val_loss: 0.3521 - val_accuracy: 0.8650\n",
      "\n",
      "Epoch 00011: val_accuracy did not improve from 0.87131\n",
      "Epoch 12/500\n",
      "89/89 [==============================] - 0s 2ms/step - loss: 0.2572 - accuracy: 0.8963 - val_loss: 0.3442 - val_accuracy: 0.8629\n",
      "\n",
      "Epoch 00012: ReduceLROnPlateau reducing learning rate to 0.001.\n",
      "\n",
      "Epoch 00012: val_accuracy did not improve from 0.87131\n",
      "Epoch 13/500\n",
      "89/89 [==============================] - 0s 2ms/step - loss: 0.2652 - accuracy: 0.9029 - val_loss: 0.3399 - val_accuracy: 0.8650\n",
      "\n",
      "Epoch 00013: val_accuracy did not improve from 0.87131\n",
      "Epoch 14/500\n",
      "89/89 [==============================] - 0s 2ms/step - loss: 0.2467 - accuracy: 0.9053 - val_loss: 0.3567 - val_accuracy: 0.8629\n",
      "\n",
      "Epoch 00014: val_accuracy did not improve from 0.87131\n",
      "Epoch 15/500\n",
      "89/89 [==============================] - 0s 2ms/step - loss: 0.2455 - accuracy: 0.9050 - val_loss: 0.3488 - val_accuracy: 0.8608\n",
      "\n",
      "Epoch 00015: ReduceLROnPlateau reducing learning rate to 0.001.\n",
      "\n",
      "Epoch 00015: val_accuracy did not improve from 0.87131\n",
      "Epoch 16/500\n",
      "89/89 [==============================] - 0s 2ms/step - loss: 0.2506 - accuracy: 0.9076 - val_loss: 0.3582 - val_accuracy: 0.8671\n",
      "\n",
      "Epoch 00016: val_accuracy did not improve from 0.87131\n",
      "Epoch 17/500\n",
      "89/89 [==============================] - 0s 2ms/step - loss: 0.2206 - accuracy: 0.9223 - val_loss: 0.3487 - val_accuracy: 0.8650\n",
      "\n",
      "Epoch 00017: val_accuracy did not improve from 0.87131\n",
      "Epoch 18/500\n",
      "89/89 [==============================] - 0s 2ms/step - loss: 0.2328 - accuracy: 0.9112 - val_loss: 0.3517 - val_accuracy: 0.8671\n",
      "\n",
      "Epoch 00018: ReduceLROnPlateau reducing learning rate to 0.001.\n",
      "\n",
      "Epoch 00018: val_accuracy did not improve from 0.87131\n",
      "Epoch 19/500\n",
      "89/89 [==============================] - 0s 2ms/step - loss: 0.2129 - accuracy: 0.9270 - val_loss: 0.3927 - val_accuracy: 0.8523\n",
      "\n",
      "Epoch 00019: val_accuracy did not improve from 0.87131\n",
      "Epoch 20/500\n",
      "89/89 [==============================] - 0s 2ms/step - loss: 0.2214 - accuracy: 0.9099 - val_loss: 0.3580 - val_accuracy: 0.8608\n",
      "\n",
      "Epoch 00020: val_accuracy did not improve from 0.87131\n",
      "Epoch 21/500\n",
      "89/89 [==============================] - 0s 2ms/step - loss: 0.2142 - accuracy: 0.9184 - val_loss: 0.3598 - val_accuracy: 0.8692\n",
      "\n",
      "Epoch 00021: ReduceLROnPlateau reducing learning rate to 0.001.\n",
      "\n",
      "Epoch 00021: val_accuracy did not improve from 0.87131\n",
      "Epoch 22/500\n",
      "89/89 [==============================] - 0s 2ms/step - loss: 0.2227 - accuracy: 0.9096 - val_loss: 0.3646 - val_accuracy: 0.8650\n",
      "\n",
      "Epoch 00022: val_accuracy did not improve from 0.87131\n",
      "Epoch 23/500\n",
      "89/89 [==============================] - 0s 2ms/step - loss: 0.2170 - accuracy: 0.9252 - val_loss: 0.3803 - val_accuracy: 0.8523\n",
      "\n",
      "Epoch 00023: val_accuracy did not improve from 0.87131\n",
      "Epoch 24/500\n",
      "89/89 [==============================] - 0s 2ms/step - loss: 0.2155 - accuracy: 0.9210 - val_loss: 0.3800 - val_accuracy: 0.8481\n",
      "\n",
      "Epoch 00024: ReduceLROnPlateau reducing learning rate to 0.001.\n",
      "\n",
      "Epoch 00024: val_accuracy did not improve from 0.87131\n",
      "Epoch 25/500\n",
      "89/89 [==============================] - 0s 2ms/step - loss: 0.2184 - accuracy: 0.9215 - val_loss: 0.3730 - val_accuracy: 0.8629\n",
      "\n",
      "Epoch 00025: val_accuracy did not improve from 0.87131\n",
      "Epoch 26/500\n",
      "89/89 [==============================] - 0s 2ms/step - loss: 0.1947 - accuracy: 0.9182 - val_loss: 0.3781 - val_accuracy: 0.8565\n",
      "\n",
      "Epoch 00026: val_accuracy did not improve from 0.87131\n",
      "Epoch 27/500\n",
      "89/89 [==============================] - 0s 2ms/step - loss: 0.2133 - accuracy: 0.9148 - val_loss: 0.3776 - val_accuracy: 0.8586\n",
      "\n",
      "Epoch 00027: ReduceLROnPlateau reducing learning rate to 0.001.\n",
      "\n",
      "Epoch 00027: val_accuracy did not improve from 0.87131\n",
      "Epoch 28/500\n",
      "89/89 [==============================] - 0s 2ms/step - loss: 0.2151 - accuracy: 0.9135 - val_loss: 0.3841 - val_accuracy: 0.8629\n",
      "\n",
      "Epoch 00028: val_accuracy did not improve from 0.87131\n",
      "Epoch 29/500\n",
      "89/89 [==============================] - 0s 2ms/step - loss: 0.1824 - accuracy: 0.9306 - val_loss: 0.3769 - val_accuracy: 0.8586\n",
      "\n",
      "Epoch 00029: val_accuracy did not improve from 0.87131\n",
      "Epoch 30/500\n",
      "89/89 [==============================] - 0s 2ms/step - loss: 0.1901 - accuracy: 0.9211 - val_loss: 0.3803 - val_accuracy: 0.8629\n",
      "\n",
      "Epoch 00030: ReduceLROnPlateau reducing learning rate to 0.001.\n",
      "\n",
      "Epoch 00030: val_accuracy did not improve from 0.87131\n",
      "Epoch 31/500\n",
      "89/89 [==============================] - 0s 2ms/step - loss: 0.2272 - accuracy: 0.9124 - val_loss: 0.4116 - val_accuracy: 0.8586\n",
      "Restoring model weights from the end of the best epoch.\n",
      "\n",
      "Epoch 00031: val_accuracy did not improve from 0.87131\n",
      "Epoch 00031: early stopping\n"
     ]
    }
   ],
   "source": [
    "es = EarlyStopping(monitor=\"val_accuracy\", mode='max', patience=25, restore_best_weights=True, verbose=2)\n",
    "rl = ReduceLROnPlateau(monitor=\"val_accuracy\", mode=\"max\", patience=3, min_lr=0.001, factor=.2, verbose=2)\n",
    "mc = ModelCheckpoint(\"./models/Weights-{epoch:03d}--{val_accuracy:.5f}.hdf5\", monitor='val_accuracy', verbose = 2, save_best_only = True, mode ='max')\n",
    "\n",
    "model = Sequential()\n",
    "model.add(Input(shape=X_train.shape[1:], name=\"input_layer\"))\n",
    "model.add(Dense(64, activation='relu'))\n",
    "model.add(Dense(32, activation='relu'))\n",
    "model.add(Dense(8, activation='relu'))\n",
    "model.add(Dense(4, activation='sigmoid'))\n",
    "model.compile(loss=\"categorical_crossentropy\", optimizer=\"adam\", metrics=[\"accuracy\"])\n",
    "histo = model.fit(X_train, y_train, validation_data=(X_valid, y_valid), epochs=500, batch_size=16, callbacks=[es, rl, mc])"
   ]
  }
 ],
 "metadata": {
  "kernelspec": {
   "display_name": "Python 3",
   "language": "python",
   "name": "python3"
  },
  "language_info": {
   "codemirror_mode": {
    "name": "ipython",
    "version": 3
   },
   "file_extension": ".py",
   "mimetype": "text/x-python",
   "name": "python",
   "nbconvert_exporter": "python",
   "pygments_lexer": "ipython3",
   "version": "3.7.9"
  },
  "papermill": {
   "default_parameters": {},
   "duration": 22.890876,
   "end_time": "2021-02-09T06:03:35.292882",
   "environment_variables": {},
   "exception": null,
   "input_path": "__notebook__.ipynb",
   "output_path": "__notebook__.ipynb",
   "parameters": {},
   "start_time": "2021-02-09T06:03:12.402006",
   "version": "2.2.2"
  }
 },
 "nbformat": 4,
 "nbformat_minor": 4
}
